{
 "cells": [
  {
   "cell_type": "code",
   "execution_count": 11,
   "id": "7e3a30a3-a979-4668-ace7-2fdb4f17cfbe",
   "metadata": {},
   "outputs": [],
   "source": [
    "import pandas as pd\n",
    "import numpy as np\n",
    "import matplotlib.pyplot as plt\n",
    "from IPython.display import clear_output\n",
    "import glob\n",
    "from time import sleep"
   ]
  },
  {
   "cell_type": "markdown",
   "id": "984cb0e0-b158-4342-a357-baec2c2fc017",
   "metadata": {},
   "source": [
    "## 2010~2014"
   ]
  },
  {
   "cell_type": "code",
   "execution_count": 19,
   "id": "a2908d6b-f687-4381-a8c8-0cb017363530",
   "metadata": {},
   "outputs": [
    {
     "name": "stdout",
     "output_type": "stream",
     "text": [
      "2010\n",
      "2010-02-01 01:00:00 2010-06-01 00:00:00\n",
      "2011\n",
      "2011-02-01 01:00:00 2011-06-01 00:00:00\n",
      "2012\n",
      "2012-02-01 01:00:00 2012-07-01 00:00:00\n",
      "2013\n",
      "2013-02-01 01:00:00 2013-07-01 00:00:00\n",
      "2014\n",
      "2014-02-01 01:00:00 2014-07-01 00:00:00\n"
     ]
    }
   ],
   "source": [
    "def get_ymd(df, index):\n",
    "    ser=df.iloc[index]\n",
    "    return ser[\"年\"],ser[\"月\"], ser[\"日\"]\n",
    "\n",
    "list_2010_2014=[]\n",
    "for iyy in range(2010,2014+1,1):\n",
    "    print(iyy)\n",
    "    df=pd.read_excel(f\"../DATA/{iyy}_tyubu/花粉データ{iyy}(中部).xls\",skiprows=1)\n",
    "    y,m,d=get_ymd(df, 0)\n",
    "    begin=pd.to_datetime(f\"{y}-{m}-{d} 01:00\")\n",
    "    y,m,d=get_ymd(df,-1)\n",
    "    end=pd.to_datetime(f\"{y}-{m}-{d} 00:00\")+pd.offsets.Hour(24)\n",
    "    print(begin, end)\n",
    "    df[\"date_time\"]=pd.date_range(begin, end , freq=\"H\")\n",
    "    list_2010_2014.append(df)\n"
   ]
  },
  {
   "cell_type": "code",
   "execution_count": 36,
   "id": "15a238ce-89b4-4b3e-85d4-f48689d3bc79",
   "metadata": {},
   "outputs": [],
   "source": [
    "df2010_2014=pd.concat(list_2010_2014)\n",
    "df2010_2014.to_csv(\"../INPUT/pollne_2010_2014.csv.gz\", compression=\"gzip\", index=None)"
   ]
  },
  {
   "cell_type": "code",
   "execution_count": 30,
   "id": "e31a7f6e-7b16-4894-b14d-a83d8dfce571",
   "metadata": {},
   "outputs": [
    {
     "data": {
      "text/plain": [
       "21180.0"
      ]
     },
     "execution_count": 30,
     "metadata": {},
     "output_type": "execute_result"
    }
   ],
   "source": [
    "df2010_2014[\"名古屋\"].max()"
   ]
  },
  {
   "cell_type": "markdown",
   "id": "7f81ddd3-7de2-446e-9ba3-0706c4bfb072",
   "metadata": {},
   "source": [
    "## 2015~2022"
   ]
  },
  {
   "cell_type": "code",
   "execution_count": 25,
   "id": "c3e70363-c938-469c-96c4-2636175f4016",
   "metadata": {},
   "outputs": [
    {
     "name": "stdout",
     "output_type": "stream",
     "text": [
      "2015\n",
      "2015-02-01 01:00:00 2015-07-01 00:00:00\n",
      "2016\n",
      "2016-02-01 01:00:00 2016-07-01 00:00:00\n",
      "2017\n",
      "2017-02-01 01:00:00 2017-07-01 00:00:00\n",
      "2018\n",
      "2018-02-01 01:00:00 2018-07-01 00:00:00\n",
      "2019\n",
      "2019-02-01 01:00:00 2019-07-01 00:00:00\n",
      "2020\n",
      "2020-02-01 01:00:00 2020-07-01 00:00:00\n"
     ]
    }
   ],
   "source": [
    "def get_ymd(df, index):\n",
    "    ser=df.iloc[index]\n",
    "    return ser[\"年\"],ser[\"月\"], ser[\"日\"]\n",
    "\n",
    "list_2015_2020=[]\n",
    "for iyy in range(2015,2020+1,1):\n",
    "    print(iyy)\n",
    "    df=pd.read_excel(f\"../DATA/{iyy}_tyubu/花粉データ{iyy}(中部).xlsx\",skiprows=1)\n",
    "    y,m,d=get_ymd(df, 0)\n",
    "    begin=pd.to_datetime(f\"{y}-{m}-{d} 01:00\")\n",
    "    y,m,d=get_ymd(df,-1)\n",
    "    end=pd.to_datetime(f\"{y}-{m}-{d} 00:00\")+pd.offsets.Hour(24)\n",
    "    print(begin, end)\n",
    "    df[\"date_time\"]=pd.date_range(begin, end , freq=\"H\")\n",
    "    list_2015_2020.append(df)"
   ]
  },
  {
   "cell_type": "code",
   "execution_count": 26,
   "id": "7b9a21d9-173e-43dd-983d-fdb29f474bb0",
   "metadata": {},
   "outputs": [
    {
     "data": {
      "text/html": [
       "<div>\n",
       "<style scoped>\n",
       "    .dataframe tbody tr th:only-of-type {\n",
       "        vertical-align: middle;\n",
       "    }\n",
       "\n",
       "    .dataframe tbody tr th {\n",
       "        vertical-align: top;\n",
       "    }\n",
       "\n",
       "    .dataframe thead th {\n",
       "        text-align: right;\n",
       "    }\n",
       "</style>\n",
       "<table border=\"1\" class=\"dataframe\">\n",
       "  <thead>\n",
       "    <tr style=\"text-align: right;\">\n",
       "      <th></th>\n",
       "      <th>年</th>\n",
       "      <th>月</th>\n",
       "      <th>日</th>\n",
       "      <th>時</th>\n",
       "      <th>新潟県保健環境科学研究所</th>\n",
       "      <th>長岡環境センター</th>\n",
       "      <th>上越環境センター</th>\n",
       "      <th>富山県庁舎</th>\n",
       "      <th>富山県農林水産総合技術センター森林研究所</th>\n",
       "      <th>金沢大学医学部附属病院</th>\n",
       "      <th>...</th>\n",
       "      <th>date_time</th>\n",
       "      <th>三重県庁</th>\n",
       "      <th>富山県魚津総合庁舎</th>\n",
       "      <th>石川県能登中部保健福祉センター</th>\n",
       "      <th>二州健康福祉センター</th>\n",
       "      <th>山梨県身延合同庁舎本館</th>\n",
       "      <th>伊東市役所</th>\n",
       "      <th>静岡県東部総合庁舎（沼津財務事務所）</th>\n",
       "      <th>山梨県衛生環境研究所</th>\n",
       "      <th>静岡県庁本庁舎屋上</th>\n",
       "    </tr>\n",
       "  </thead>\n",
       "  <tbody>\n",
       "    <tr>\n",
       "      <th>0</th>\n",
       "      <td>2015</td>\n",
       "      <td>2</td>\n",
       "      <td>1</td>\n",
       "      <td>1</td>\n",
       "      <td>20.0</td>\n",
       "      <td>28.0</td>\n",
       "      <td>-9998.0</td>\n",
       "      <td>24.0</td>\n",
       "      <td>-9998.0</td>\n",
       "      <td>57.0</td>\n",
       "      <td>...</td>\n",
       "      <td>2015-02-01 01:00:00</td>\n",
       "      <td>NaN</td>\n",
       "      <td>NaN</td>\n",
       "      <td>NaN</td>\n",
       "      <td>NaN</td>\n",
       "      <td>NaN</td>\n",
       "      <td>NaN</td>\n",
       "      <td>NaN</td>\n",
       "      <td>NaN</td>\n",
       "      <td>NaN</td>\n",
       "    </tr>\n",
       "    <tr>\n",
       "      <th>1</th>\n",
       "      <td>2015</td>\n",
       "      <td>2</td>\n",
       "      <td>1</td>\n",
       "      <td>2</td>\n",
       "      <td>-9998.0</td>\n",
       "      <td>-9998.0</td>\n",
       "      <td>0.0</td>\n",
       "      <td>-9998.0</td>\n",
       "      <td>-9998.0</td>\n",
       "      <td>57.0</td>\n",
       "      <td>...</td>\n",
       "      <td>2015-02-01 02:00:00</td>\n",
       "      <td>NaN</td>\n",
       "      <td>NaN</td>\n",
       "      <td>NaN</td>\n",
       "      <td>NaN</td>\n",
       "      <td>NaN</td>\n",
       "      <td>NaN</td>\n",
       "      <td>NaN</td>\n",
       "      <td>NaN</td>\n",
       "      <td>NaN</td>\n",
       "    </tr>\n",
       "    <tr>\n",
       "      <th>2</th>\n",
       "      <td>2015</td>\n",
       "      <td>2</td>\n",
       "      <td>1</td>\n",
       "      <td>3</td>\n",
       "      <td>-9998.0</td>\n",
       "      <td>-9998.0</td>\n",
       "      <td>36.0</td>\n",
       "      <td>8.0</td>\n",
       "      <td>0.0</td>\n",
       "      <td>4.0</td>\n",
       "      <td>...</td>\n",
       "      <td>2015-02-01 03:00:00</td>\n",
       "      <td>NaN</td>\n",
       "      <td>NaN</td>\n",
       "      <td>NaN</td>\n",
       "      <td>NaN</td>\n",
       "      <td>NaN</td>\n",
       "      <td>NaN</td>\n",
       "      <td>NaN</td>\n",
       "      <td>NaN</td>\n",
       "      <td>NaN</td>\n",
       "    </tr>\n",
       "    <tr>\n",
       "      <th>3</th>\n",
       "      <td>2015</td>\n",
       "      <td>2</td>\n",
       "      <td>1</td>\n",
       "      <td>4</td>\n",
       "      <td>0.0</td>\n",
       "      <td>53.0</td>\n",
       "      <td>-9998.0</td>\n",
       "      <td>0.0</td>\n",
       "      <td>-9998.0</td>\n",
       "      <td>8.0</td>\n",
       "      <td>...</td>\n",
       "      <td>2015-02-01 04:00:00</td>\n",
       "      <td>NaN</td>\n",
       "      <td>NaN</td>\n",
       "      <td>NaN</td>\n",
       "      <td>NaN</td>\n",
       "      <td>NaN</td>\n",
       "      <td>NaN</td>\n",
       "      <td>NaN</td>\n",
       "      <td>NaN</td>\n",
       "      <td>NaN</td>\n",
       "    </tr>\n",
       "    <tr>\n",
       "      <th>4</th>\n",
       "      <td>2015</td>\n",
       "      <td>2</td>\n",
       "      <td>1</td>\n",
       "      <td>5</td>\n",
       "      <td>4.0</td>\n",
       "      <td>-9998.0</td>\n",
       "      <td>106.0</td>\n",
       "      <td>0.0</td>\n",
       "      <td>0.0</td>\n",
       "      <td>32.0</td>\n",
       "      <td>...</td>\n",
       "      <td>2015-02-01 05:00:00</td>\n",
       "      <td>NaN</td>\n",
       "      <td>NaN</td>\n",
       "      <td>NaN</td>\n",
       "      <td>NaN</td>\n",
       "      <td>NaN</td>\n",
       "      <td>NaN</td>\n",
       "      <td>NaN</td>\n",
       "      <td>NaN</td>\n",
       "      <td>NaN</td>\n",
       "    </tr>\n",
       "    <tr>\n",
       "      <th>...</th>\n",
       "      <td>...</td>\n",
       "      <td>...</td>\n",
       "      <td>...</td>\n",
       "      <td>...</td>\n",
       "      <td>...</td>\n",
       "      <td>...</td>\n",
       "      <td>...</td>\n",
       "      <td>...</td>\n",
       "      <td>...</td>\n",
       "      <td>...</td>\n",
       "      <td>...</td>\n",
       "      <td>...</td>\n",
       "      <td>...</td>\n",
       "      <td>...</td>\n",
       "      <td>...</td>\n",
       "      <td>...</td>\n",
       "      <td>...</td>\n",
       "      <td>...</td>\n",
       "      <td>...</td>\n",
       "      <td>...</td>\n",
       "      <td>...</td>\n",
       "    </tr>\n",
       "    <tr>\n",
       "      <th>3619</th>\n",
       "      <td>2020</td>\n",
       "      <td>6</td>\n",
       "      <td>30</td>\n",
       "      <td>20</td>\n",
       "      <td>NaN</td>\n",
       "      <td>NaN</td>\n",
       "      <td>NaN</td>\n",
       "      <td>NaN</td>\n",
       "      <td>NaN</td>\n",
       "      <td>NaN</td>\n",
       "      <td>...</td>\n",
       "      <td>2020-06-30 20:00:00</td>\n",
       "      <td>NaN</td>\n",
       "      <td>NaN</td>\n",
       "      <td>NaN</td>\n",
       "      <td>NaN</td>\n",
       "      <td>NaN</td>\n",
       "      <td>NaN</td>\n",
       "      <td>NaN</td>\n",
       "      <td>NaN</td>\n",
       "      <td>NaN</td>\n",
       "    </tr>\n",
       "    <tr>\n",
       "      <th>3620</th>\n",
       "      <td>2020</td>\n",
       "      <td>6</td>\n",
       "      <td>30</td>\n",
       "      <td>21</td>\n",
       "      <td>NaN</td>\n",
       "      <td>NaN</td>\n",
       "      <td>NaN</td>\n",
       "      <td>NaN</td>\n",
       "      <td>NaN</td>\n",
       "      <td>NaN</td>\n",
       "      <td>...</td>\n",
       "      <td>2020-06-30 21:00:00</td>\n",
       "      <td>NaN</td>\n",
       "      <td>NaN</td>\n",
       "      <td>NaN</td>\n",
       "      <td>NaN</td>\n",
       "      <td>NaN</td>\n",
       "      <td>NaN</td>\n",
       "      <td>NaN</td>\n",
       "      <td>NaN</td>\n",
       "      <td>NaN</td>\n",
       "    </tr>\n",
       "    <tr>\n",
       "      <th>3621</th>\n",
       "      <td>2020</td>\n",
       "      <td>6</td>\n",
       "      <td>30</td>\n",
       "      <td>22</td>\n",
       "      <td>NaN</td>\n",
       "      <td>NaN</td>\n",
       "      <td>NaN</td>\n",
       "      <td>NaN</td>\n",
       "      <td>NaN</td>\n",
       "      <td>NaN</td>\n",
       "      <td>...</td>\n",
       "      <td>2020-06-30 22:00:00</td>\n",
       "      <td>NaN</td>\n",
       "      <td>NaN</td>\n",
       "      <td>NaN</td>\n",
       "      <td>NaN</td>\n",
       "      <td>NaN</td>\n",
       "      <td>NaN</td>\n",
       "      <td>NaN</td>\n",
       "      <td>NaN</td>\n",
       "      <td>NaN</td>\n",
       "    </tr>\n",
       "    <tr>\n",
       "      <th>3622</th>\n",
       "      <td>2020</td>\n",
       "      <td>6</td>\n",
       "      <td>30</td>\n",
       "      <td>23</td>\n",
       "      <td>NaN</td>\n",
       "      <td>NaN</td>\n",
       "      <td>NaN</td>\n",
       "      <td>NaN</td>\n",
       "      <td>NaN</td>\n",
       "      <td>NaN</td>\n",
       "      <td>...</td>\n",
       "      <td>2020-06-30 23:00:00</td>\n",
       "      <td>NaN</td>\n",
       "      <td>NaN</td>\n",
       "      <td>NaN</td>\n",
       "      <td>NaN</td>\n",
       "      <td>NaN</td>\n",
       "      <td>NaN</td>\n",
       "      <td>NaN</td>\n",
       "      <td>NaN</td>\n",
       "      <td>NaN</td>\n",
       "    </tr>\n",
       "    <tr>\n",
       "      <th>3623</th>\n",
       "      <td>2020</td>\n",
       "      <td>6</td>\n",
       "      <td>30</td>\n",
       "      <td>24</td>\n",
       "      <td>NaN</td>\n",
       "      <td>NaN</td>\n",
       "      <td>NaN</td>\n",
       "      <td>NaN</td>\n",
       "      <td>NaN</td>\n",
       "      <td>NaN</td>\n",
       "      <td>...</td>\n",
       "      <td>2020-07-01 00:00:00</td>\n",
       "      <td>NaN</td>\n",
       "      <td>NaN</td>\n",
       "      <td>NaN</td>\n",
       "      <td>NaN</td>\n",
       "      <td>NaN</td>\n",
       "      <td>NaN</td>\n",
       "      <td>NaN</td>\n",
       "      <td>NaN</td>\n",
       "      <td>NaN</td>\n",
       "    </tr>\n",
       "  </tbody>\n",
       "</table>\n",
       "<p>21648 rows × 39 columns</p>\n",
       "</div>"
      ],
      "text/plain": [
       "         年  月   日   時  新潟県保健環境科学研究所  長岡環境センター  上越環境センター   富山県庁舎  \\\n",
       "0     2015  2   1   1          20.0      28.0   -9998.0    24.0   \n",
       "1     2015  2   1   2       -9998.0   -9998.0       0.0 -9998.0   \n",
       "2     2015  2   1   3       -9998.0   -9998.0      36.0     8.0   \n",
       "3     2015  2   1   4           0.0      53.0   -9998.0     0.0   \n",
       "4     2015  2   1   5           4.0   -9998.0     106.0     0.0   \n",
       "...    ... ..  ..  ..           ...       ...       ...     ...   \n",
       "3619  2020  6  30  20           NaN       NaN       NaN     NaN   \n",
       "3620  2020  6  30  21           NaN       NaN       NaN     NaN   \n",
       "3621  2020  6  30  22           NaN       NaN       NaN     NaN   \n",
       "3622  2020  6  30  23           NaN       NaN       NaN     NaN   \n",
       "3623  2020  6  30  24           NaN       NaN       NaN     NaN   \n",
       "\n",
       "      富山県農林水産総合技術センター森林研究所  金沢大学医学部附属病院  ...           date_time  三重県庁  \\\n",
       "0                  -9998.0         57.0  ... 2015-02-01 01:00:00   NaN   \n",
       "1                  -9998.0         57.0  ... 2015-02-01 02:00:00   NaN   \n",
       "2                      0.0          4.0  ... 2015-02-01 03:00:00   NaN   \n",
       "3                  -9998.0          8.0  ... 2015-02-01 04:00:00   NaN   \n",
       "4                      0.0         32.0  ... 2015-02-01 05:00:00   NaN   \n",
       "...                    ...          ...  ...                 ...   ...   \n",
       "3619                   NaN          NaN  ... 2020-06-30 20:00:00   NaN   \n",
       "3620                   NaN          NaN  ... 2020-06-30 21:00:00   NaN   \n",
       "3621                   NaN          NaN  ... 2020-06-30 22:00:00   NaN   \n",
       "3622                   NaN          NaN  ... 2020-06-30 23:00:00   NaN   \n",
       "3623                   NaN          NaN  ... 2020-07-01 00:00:00   NaN   \n",
       "\n",
       "      富山県魚津総合庁舎  石川県能登中部保健福祉センター  二州健康福祉センター  山梨県身延合同庁舎本館  伊東市役所  \\\n",
       "0           NaN              NaN         NaN          NaN    NaN   \n",
       "1           NaN              NaN         NaN          NaN    NaN   \n",
       "2           NaN              NaN         NaN          NaN    NaN   \n",
       "3           NaN              NaN         NaN          NaN    NaN   \n",
       "4           NaN              NaN         NaN          NaN    NaN   \n",
       "...         ...              ...         ...          ...    ...   \n",
       "3619        NaN              NaN         NaN          NaN    NaN   \n",
       "3620        NaN              NaN         NaN          NaN    NaN   \n",
       "3621        NaN              NaN         NaN          NaN    NaN   \n",
       "3622        NaN              NaN         NaN          NaN    NaN   \n",
       "3623        NaN              NaN         NaN          NaN    NaN   \n",
       "\n",
       "      静岡県東部総合庁舎（沼津財務事務所）  山梨県衛生環境研究所  静岡県庁本庁舎屋上  \n",
       "0                    NaN         NaN        NaN  \n",
       "1                    NaN         NaN        NaN  \n",
       "2                    NaN         NaN        NaN  \n",
       "3                    NaN         NaN        NaN  \n",
       "4                    NaN         NaN        NaN  \n",
       "...                  ...         ...        ...  \n",
       "3619                 NaN         NaN        NaN  \n",
       "3620                 NaN         NaN        NaN  \n",
       "3621                 NaN         NaN        NaN  \n",
       "3622                 NaN         NaN        NaN  \n",
       "3623                 NaN         NaN        NaN  \n",
       "\n",
       "[21648 rows x 39 columns]"
      ]
     },
     "execution_count": 26,
     "metadata": {},
     "output_type": "execute_result"
    }
   ],
   "source": [
    "df2015_2022=pd.concat(list_2015_2020)\n",
    "df2015_2022[\"愛知県環境調査センター\"]"
   ]
  },
  {
   "cell_type": "code",
   "execution_count": 37,
   "id": "b41e8581-e16b-4a9f-864c-636863cf7a5a",
   "metadata": {},
   "outputs": [],
   "source": [
    "df2015_2022.to_csv(\"../INPUT/pollne_2015_2022.csv.gz\", index=None, compression=\"gzip\")"
   ]
  },
  {
   "cell_type": "code",
   "execution_count": 32,
   "id": "391f1b36-5f19-42b1-bf9e-ce42488f53b0",
   "metadata": {},
   "outputs": [
    {
     "data": {
      "text/html": [
       "<div>\n",
       "<style scoped>\n",
       "    .dataframe tbody tr th:only-of-type {\n",
       "        vertical-align: middle;\n",
       "    }\n",
       "\n",
       "    .dataframe tbody tr th {\n",
       "        vertical-align: top;\n",
       "    }\n",
       "\n",
       "    .dataframe thead th {\n",
       "        text-align: right;\n",
       "    }\n",
       "</style>\n",
       "<table border=\"1\" class=\"dataframe\">\n",
       "  <thead>\n",
       "    <tr style=\"text-align: right;\">\n",
       "      <th></th>\n",
       "      <th>年</th>\n",
       "      <th>月</th>\n",
       "      <th>日</th>\n",
       "      <th>時</th>\n",
       "      <th>新潟</th>\n",
       "      <th>長岡</th>\n",
       "      <th>上越</th>\n",
       "      <th>富山</th>\n",
       "      <th>立山</th>\n",
       "      <th>金沢</th>\n",
       "      <th>...</th>\n",
       "      <th>浜北</th>\n",
       "      <th>伊豆</th>\n",
       "      <th>名古屋</th>\n",
       "      <th>設楽</th>\n",
       "      <th>四日市</th>\n",
       "      <th>白山</th>\n",
       "      <th>Unnamed: 27</th>\n",
       "      <th>Unnamed: 28</th>\n",
       "      <th>date_time</th>\n",
       "      <th>新城</th>\n",
       "    </tr>\n",
       "  </thead>\n",
       "  <tbody>\n",
       "    <tr>\n",
       "      <th>2514</th>\n",
       "      <td>2014</td>\n",
       "      <td>5</td>\n",
       "      <td>16</td>\n",
       "      <td>19</td>\n",
       "      <td>8.0</td>\n",
       "      <td>0.0</td>\n",
       "      <td>8.0</td>\n",
       "      <td>12.0</td>\n",
       "      <td>4.0</td>\n",
       "      <td>0.0</td>\n",
       "      <td>...</td>\n",
       "      <td>24.0</td>\n",
       "      <td>24.0</td>\n",
       "      <td>21180.0</td>\n",
       "      <td>NaN</td>\n",
       "      <td>8.0</td>\n",
       "      <td>12.0</td>\n",
       "      <td>NaN</td>\n",
       "      <td>NaN</td>\n",
       "      <td>2014-05-16 19:00:00</td>\n",
       "      <td>20.0</td>\n",
       "    </tr>\n",
       "  </tbody>\n",
       "</table>\n",
       "<p>1 rows × 31 columns</p>\n",
       "</div>"
      ],
      "text/plain": [
       "         年  月   日   時   新潟   長岡   上越    富山   立山   金沢  ...    浜北    伊豆  \\\n",
       "2514  2014  5  16  19  8.0  0.0  8.0  12.0  4.0  0.0  ...  24.0  24.0   \n",
       "\n",
       "          名古屋  設楽  四日市    白山  Unnamed: 27  Unnamed: 28           date_time  \\\n",
       "2514  21180.0 NaN  8.0  12.0          NaN          NaN 2014-05-16 19:00:00   \n",
       "\n",
       "        新城  \n",
       "2514  20.0  \n",
       "\n",
       "[1 rows x 31 columns]"
      ]
     },
     "execution_count": 32,
     "metadata": {},
     "output_type": "execute_result"
    }
   ],
   "source": [
    "df2010_2014[df2010_2014[\"名古屋\"]>=5000]"
   ]
  },
  {
   "cell_type": "markdown",
   "id": "ae00edc1-f4a5-4110-8b5c-96c0e9bcbbfa",
   "metadata": {},
   "source": [
    "## 気象"
   ]
  },
  {
   "cell_type": "code",
   "execution_count": 64,
   "id": "55598af7-940a-4c58-8d7d-41e18c143086",
   "metadata": {},
   "outputs": [],
   "source": [
    "def get_data(date):\n",
    "    year=date.year\n",
    "    month=date.month\n",
    "    day=date.day\n",
    "    columns=[\"hour\",\"Ps\",\"P0\",\"precip\",\"temp\",\"dew_temp\",\"e_vapor\",\"rh\",\"wind\",\"wind_direction\",\"sunshine_hours\",\"solar_radiation\",\"snow_cover\",\"snow_fall\",\"weather\",\"cloud_cover\",\"visibility\"]\n",
    "    url=f\"https://www.data.jma.go.jp/obd/stats/etrn/view/hourly_s1.php?prec_no=51&block_no=47636&year={year}&month={month}&day={day}&view=\"\n",
    "    df=pd.read_html(url)[0]\n",
    "    df.columns=columns\n",
    "    df[\"date_time\"]=pd.date_range(date, date+pd.offsets.Hour(23), freq=\"H\")\n",
    "    return df"
   ]
  },
  {
   "cell_type": "code",
   "execution_count": 7,
   "id": "12af3825-0059-4927-9278-60fb98395ea2",
   "metadata": {},
   "outputs": [],
   "source": [
    "def get_amedas_data(date,prec_no, block_no):\n",
    "    year=date.year\n",
    "    month=date.month\n",
    "    day=date.day\n",
    "    columns=[\"hour\",\"precip\",\"temp\",\"dew_temp\", \"e_vapor\",\"rh\",\"wind\",\"wind_direction\",\"sunshine_hours\",\"snow_fall\",\"snow_cover\"]\n",
    "    url=f\"https://www.data.jma.go.jp/obd/stats/etrn/view/hourly_a1.php?prec_no={prec_no}&block_no={block_no}&year={year}&month={month}&day={day}&view=\"\n",
    "    df=pd.read_html(url)[0]\n",
    "    df.columns=columns\n",
    "    df[\"date_time\"]=pd.date_range(date, date+pd.offsets.Hour(23), freq=\"H\")\n",
    "    return df"
   ]
  },
  {
   "cell_type": "markdown",
   "id": "fdfd5e14-55ac-456d-9107-479f8122970f",
   "metadata": {},
   "source": [
    "## 名古屋"
   ]
  },
  {
   "cell_type": "code",
   "execution_count": 68,
   "id": "1c03b500-c724-44c7-8019-d74e2a28007b",
   "metadata": {},
   "outputs": [
    {
     "name": "stdout",
     "output_type": "stream",
     "text": [
      "2020 end\n"
     ]
    }
   ],
   "source": [
    "for iyy in range(2010, 2021):\n",
    "    print(iyy)\n",
    "    df_list=[]\n",
    "    for date in pd.date_range(f\"{iyy}-01-01 01:00\",f\"{iyy}-06-30 01:00\", freq=\"D\"):\n",
    "        print(date)\n",
    "        df=get_data(date)\n",
    "        df_list.append(df)\n",
    "    dfall=pd.concat(df_list)\n",
    "    dfall.to_csv(f\"../data/situ_obs_hourly_nagoya_{iyy}.csv\",index=None)\n",
    "    clear_output()\n",
    "    print(iyy,\"end\")\n",
    "    "
   ]
  },
  {
   "cell_type": "code",
   "execution_count": 70,
   "id": "2894bfe5-9fa3-4048-96fc-8db994c32d0c",
   "metadata": {},
   "outputs": [],
   "source": [
    "dflist=[]\n",
    "files=sorted(glob.glob(\"../INPUT/situ_obs_hourly_nagoya_*.csv\"))\n",
    "for f in files:\n",
    "    dflist.append(pd.read_csv(f))\n",
    "dfweather=pd.concat(dflist)\n",
    "dfweather.to_csv(\"../data/situ_obs_2010_2020.csv.gz\", compression=\"gzip\")"
   ]
  },
  {
   "cell_type": "markdown",
   "id": "0503298c-34be-4930-9883-4950e16144d2",
   "metadata": {},
   "source": [
    "## アメダス"
   ]
  },
  {
   "cell_type": "code",
   "execution_count": null,
   "id": "a9e04da7-c677-4830-9dd3-6ea450df4a91",
   "metadata": {},
   "outputs": [],
   "source": []
  },
  {
   "cell_type": "code",
   "execution_count": 12,
   "id": "9cff99b0-2039-4406-8bbd-5d4267ae7c4e",
   "metadata": {},
   "outputs": [
    {
     "name": "stdout",
     "output_type": "stream",
     "text": [
      "2020 end\n"
     ]
    }
   ],
   "source": [
    "## 稲武\n",
    "prec_no=51\n",
    "block_no=\"0982\"\n",
    "for iyy in range(2010, 2021):\n",
    "    print(iyy)\n",
    "    df_list=[]\n",
    "    for date in pd.date_range(f\"{iyy}-01-01 01:00\",f\"{iyy}-06-30 01:00\", freq=\"D\"):\n",
    "        print(date)\n",
    "        while True:\n",
    "            try:\n",
    "                df=get_amedas_data(date,prec_no, block_no)\n",
    "                df_list.append(df)\n",
    "                break\n",
    "            except Exception:\n",
    "                print(\"connection refused\")\n",
    "                sleep(1)\n",
    "                continue\n",
    "    dfall=pd.concat(df_list)\n",
    "    dfall.to_csv(f\"../rawdata/amedas_obs_hourly_inabu_{prec_no}_{block_no}_{iyy}.csv.gz\",index=None, compression=\"gzip\")\n",
    "    clear_output()\n",
    "    print(iyy,\"end\")"
   ]
  },
  {
   "cell_type": "code",
   "execution_count": 43,
   "id": "30aaa6c4-682f-4948-9a99-f44e2ec1b186",
   "metadata": {},
   "outputs": [],
   "source": [
    "dfall=pd.concat(df_list)"
   ]
  },
  {
   "cell_type": "code",
   "execution_count": 47,
   "id": "437a5992-cb71-4cf1-a743-68fe23d71af9",
   "metadata": {},
   "outputs": [
    {
     "data": {
      "text/plain": [
       "0     -1.5\n",
       "1     -1.8\n",
       "2     -1.7\n",
       "3     -2.0\n",
       "4     -3.4\n",
       "      ... \n",
       "19    21.0\n",
       "20    21.0\n",
       "21    21.1\n",
       "22    21.2\n",
       "23    21.0\n",
       "Name: temp, Length: 4368, dtype: object"
      ]
     },
     "execution_count": 47,
     "metadata": {},
     "output_type": "execute_result"
    }
   ],
   "source": [
    "dfall[\"temp\"]"
   ]
  },
  {
   "cell_type": "code",
   "execution_count": 52,
   "id": "93fe0a9b-41a7-4955-ad15-aa51802d61ff",
   "metadata": {},
   "outputs": [],
   "source": [
    "dfall.index=dfall[\"date_time\"]"
   ]
  },
  {
   "cell_type": "code",
   "execution_count": 54,
   "id": "897b69a6-e288-4f6d-b2e5-139094dd4540",
   "metadata": {},
   "outputs": [
    {
     "data": {
      "text/plain": [
       "<AxesSubplot:xlabel='date_time'>"
      ]
     },
     "execution_count": 54,
     "metadata": {},
     "output_type": "execute_result"
    },
    {
     "data": {
      "image/png": "[encoded data removed]",
      "text/plain": [
       "<Figure size 432x288 with 1 Axes>"
      ]
     },
     "metadata": {
      "needs_background": "light"
     },
     "output_type": "display_data"
    }
   ],
   "source": [
    "dfall[\"temp\"].astype(str).str.replace(\"///\",\"\").replace(\"\",np.nan).astype(\"float\").plot()"
   ]
  },
  {
   "cell_type": "code",
   "execution_count": 55,
   "id": "4cc866ec-be32-461d-879b-09d63675573d",
   "metadata": {},
   "outputs": [
    {
     "name": "stdout",
     "output_type": "stream",
     "text": [
      "2020 end\n"
     ]
    }
   ],
   "source": [
    "## 新城\n",
    "prec_no=51\n",
    "block_no=\"1541\"\n",
    "for iyy in range(2010, 2021):\n",
    "    print(iyy)\n",
    "    df_list=[]\n",
    "    for date in pd.date_range(f\"{iyy}-01-01 01:00\",f\"{iyy}-06-30 01:00\", freq=\"D\"):\n",
    "        print(date)\n",
    "        while True:\n",
    "            try:\n",
    "                df=get_amedas_data(date,prec_no, block_no)\n",
    "                df_list.append(df)\n",
    "                break\n",
    "            except Exception:\n",
    "                print(\"connection refused\")\n",
    "                sleep(1)\n",
    "                continue\n",
    "    dfall=pd.concat(df_list)\n",
    "    dfall.to_csv(f\"../rawdata/amedas_obs_hourly_shinshiro_{prec_no}_{block_no}_{iyy}.csv.gz\",index=None, compression=\"gzip\")\n",
    "    clear_output()\n",
    "    print(iyy,\"end\")"
   ]
  },
  {
   "cell_type": "code",
   "execution_count": 56,
   "id": "3189f1af-36aa-4185-87be-aebc560ae98f",
   "metadata": {
    "tags": []
   },
   "outputs": [
    {
     "name": "stdout",
     "output_type": "stream",
     "text": [
      "2020 end\n"
     ]
    }
   ],
   "source": [
    "##岡崎\n",
    "prec_no=51\n",
    "block_no=\"0467\"\n",
    "for iyy in range(2010, 2021):\n",
    "    print(iyy)\n",
    "    df_list=[]\n",
    "    for date in pd.date_range(f\"{iyy}-01-01 01:00\",f\"{iyy}-06-30 01:00\", freq=\"D\"):\n",
    "        print(date)\n",
    "        while True:\n",
    "            try:\n",
    "                df=get_amedas_data(date,prec_no, block_no)\n",
    "                df_list.append(df)\n",
    "                break\n",
    "            except Exception:\n",
    "                print(\"connection refused\")\n",
    "                sleep(1)\n",
    "                continue\n",
    "    dfall=pd.concat(df_list)\n",
    "    dfall.to_csv(f\"../rawdata/amedas_obs_hourly_okazaki_{prec_no}_{block_no}_{iyy}.csv.gz\",index=None, compression=\"gzip\")\n",
    "    clear_output()\n",
    "    print(iyy,\"end\")"
   ]
  },
  {
   "cell_type": "code",
   "execution_count": 58,
   "id": "679bdcc9-0d62-4256-8b8a-1890b7d8e2be",
   "metadata": {
    "collapsed": true,
    "jupyter": {
     "outputs_hidden": true
    },
    "tags": []
   },
   "outputs": [
    {
     "name": "stdout",
     "output_type": "stream",
     "text": [
      "2020 end\n"
     ]
    }
   ],
   "source": [
    "##大垣\n",
    "prec_no=52\n",
    "block_no=\"0496\"\n",
    "for iyy in range(2010, 2021):\n",
    "    print(iyy)\n",
    "    df_list=[]\n",
    "    for date in pd.date_range(f\"{iyy}-01-01 01:00\",f\"{iyy}-06-30 01:00\", freq=\"D\"):\n",
    "        print(date)\n",
    "        while True:\n",
    "            try:\n",
    "                df=get_amedas_data(date,prec_no, block_no)\n",
    "                df_list.append(df)\n",
    "                break\n",
    "            except Exception:\n",
    "                print(\"connection refused\")\n",
    "                sleep(1)\n",
    "                continue\n",
    "    dfall=pd.concat(df_list)\n",
    "    dfall.to_csv(f\"../rawdata/amedas_obs_hourly_oogaki_{prec_no}_{block_no}_{iyy}.csv.gz\",index=None, compression=\"gzip\")\n",
    "    clear_output()\n",
    "    print(iyy,\"end\")"
   ]
  },
  {
   "cell_type": "code",
   "execution_count": 59,
   "id": "f8c8081d-0f14-4879-a4f0-6b188ac65671",
   "metadata": {},
   "outputs": [
    {
     "name": "stdout",
     "output_type": "stream",
     "text": [
      "2020 end\n"
     ]
    }
   ],
   "source": [
    "## 多治見\n",
    "prec_no=52\n",
    "block_no=\"1058\"\n",
    "for iyy in range(2010, 2021):\n",
    "    print(iyy)\n",
    "    df_list=[]\n",
    "    for date in pd.date_range(f\"{iyy}-01-01 01:00\",f\"{iyy}-06-30 01:00\", freq=\"D\"):\n",
    "        print(date)\n",
    "        while True:\n",
    "            try:\n",
    "                df=get_amedas_data(date,prec_no, block_no)\n",
    "                df_list.append(df)\n",
    "                break\n",
    "            except Exception:\n",
    "                print(\"connection refused\")\n",
    "                sleep(1)\n",
    "                continue\n",
    "    dfall=pd.concat(df_list)\n",
    "    dfall.to_csv(f\"../rawdata/amedas_obs_hourly_tajimi_{prec_no}_{block_no}_{iyy}.csv.gz\",index=None, compression=\"gzip\")\n",
    "    clear_output()\n",
    "    print(iyy,\"end\")"
   ]
  },
  {
   "cell_type": "code",
   "execution_count": 60,
   "id": "bca4dc44-58db-455c-8d3c-015221d2a434",
   "metadata": {},
   "outputs": [
    {
     "name": "stdout",
     "output_type": "stream",
     "text": [
      "2020 end\n"
     ]
    }
   ],
   "source": [
    "## 恵那\n",
    "prec_no=52\n",
    "block_no=\"0493\"\n",
    "for iyy in range(2010, 2021):\n",
    "    print(iyy)\n",
    "    df_list=[]\n",
    "    for date in pd.date_range(f\"{iyy}-01-01 01:00\",f\"{iyy}-06-30 01:00\", freq=\"D\"):\n",
    "        print(date)\n",
    "        while True:\n",
    "            try:\n",
    "                df=get_amedas_data(date,prec_no, block_no)\n",
    "                df_list.append(df)\n",
    "                break\n",
    "            except Exception:\n",
    "                print(\"connection refused\")\n",
    "                sleep(1)\n",
    "                continue\n",
    "    dfall=pd.concat(df_list)\n",
    "    dfall.to_csv(f\"../rawdata/amedas_obs_hourly_ena_{prec_no}_{block_no}_{iyy}.csv.gz\",index=None, compression=\"gzip\")\n",
    "    clear_output()\n",
    "    print(iyy,\"end\")"
   ]
  },
  {
   "cell_type": "code",
   "execution_count": 61,
   "id": "a288b1a5-452d-4dfa-ac80-61c1dbb19f57",
   "metadata": {},
   "outputs": [
    {
     "name": "stdout",
     "output_type": "stream",
     "text": [
      "2020 end\n"
     ]
    }
   ],
   "source": [
    "## 亀山\n",
    "prec_no=53\n",
    "block_no=\"0503\"\n",
    "for iyy in range(2010, 2021):\n",
    "    print(iyy)\n",
    "    df_list=[]\n",
    "    for date in pd.date_range(f\"{iyy}-01-01 01:00\",f\"{iyy}-06-30 01:00\", freq=\"D\"):\n",
    "        print(date)\n",
    "        while True:\n",
    "            try:\n",
    "                df=get_amedas_data(date,prec_no, block_no)\n",
    "                df_list.append(df)\n",
    "                break\n",
    "            except Exception:\n",
    "                print(\"connection refused\")\n",
    "                sleep(1)\n",
    "                continue\n",
    "    dfall=pd.concat(df_list)\n",
    "    dfall.to_csv(f\"../rawdata/amedas_obs_hourly_kameyama_{prec_no}_{block_no}_{iyy}.csv.gz\",index=None, compression=\"gzip\")\n",
    "    clear_output()\n",
    "    print(iyy,\"end\")"
   ]
  },
  {
   "cell_type": "code",
   "execution_count": null,
   "id": "d4bde290-96a4-4120-be52-8ad2af66a708",
   "metadata": {},
   "outputs": [],
   "source": []
  }
 ],
 "metadata": {
  "kernelspec": {
   "display_name": "jupyterlab-debugger",
   "language": "python",
   "name": "jupyterlab-debugger"
  },
  "language_info": {
   "codemirror_mode": {
    "name": "ipython",
    "version": 3
   },
   "file_extension": ".py",
   "mimetype": "text/x-python",
   "name": "python",
   "nbconvert_exporter": "python",
   "pygments_lexer": "ipython3",
   "version": "3.9.2"
  }
 },
 "nbformat": 4,
 "nbformat_minor": 5
}
