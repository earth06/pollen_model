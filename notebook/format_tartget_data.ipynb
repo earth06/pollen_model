{
 "cells": [
  {
   "cell_type": "code",
   "execution_count": 1,
   "id": "cbd10302-71a2-471e-a61a-49af10fb019a",
   "metadata": {},
   "outputs": [],
   "source": [
    "import lightgbm as lgbm\n",
    "import pandas as pd\n",
    "import matplotlib.pyplot as plt\n",
    "import numpy as np\n",
    "import plotly.express as px\n",
    "plt.style.use(\"ggplot\")"
   ]
  },
  {
   "cell_type": "markdown",
   "id": "fe445d72-f6d1-42e5-9817-c7858a0d751a",
   "metadata": {},
   "source": [
    "## 正解データの準備"
   ]
  },
  {
   "cell_type": "code",
   "execution_count": 2,
   "id": "f3f39395-ea92-4339-9e4c-5d68929d4c1e",
   "metadata": {},
   "outputs": [],
   "source": [
    "dfpollen1=pd.read_csv(\"../data/pollen_2010_2014.csv.gz\",index_col=\"date_time\", parse_dates=True)\n",
    "dfpollen2=pd.read_csv(\"../data/pollen_2015_2022.csv.gz\",index_col=\"date_time\", parse_dates=True)"
   ]
  },
  {
   "cell_type": "code",
   "execution_count": 3,
   "id": "e2949443-5ea6-4f6a-aa1f-3e4aca3908f7",
   "metadata": {},
   "outputs": [],
   "source": [
    "dfpollen1[\"pollen\"]=dfpollen1[\"名古屋\"]\n",
    "dfpollen2[\"pollen\"]=dfpollen2[\"愛知県環境調査センター\"]"
   ]
  },
  {
   "cell_type": "code",
   "execution_count": 4,
   "id": "624a2eb8-3dd5-4a48-a995-6b546a9466e4",
   "metadata": {},
   "outputs": [
    {
     "name": "stdout",
     "output_type": "stream",
     "text": [
      "年\n",
      "月\n",
      "日\n",
      "時\n",
      "新潟県保健環境科学研究所\n",
      "長岡環境センター\n",
      "上越環境センター\n",
      "富山県庁舎\n",
      "富山県農林水産総合技術センター森林研究所\n",
      "金沢大学医学部附属病院\n",
      "石川県林業試験場\n",
      "福井県福井大気汚染測定局\n",
      "福井県大野大気汚染測定局\n",
      "山梨県衛生公害研究所\n",
      "山梨県中部横断自動車道推進事務所\n",
      "長野県環境保全研究所安茂里庁舎\n",
      "長野県松本合同庁舎\n",
      "長野県飯田合同庁舎\n",
      "大垣市民病院\n",
      "岐阜県郡上総合庁舎\n",
      "静岡県赤十字血液センター\n",
      "静岡県森林・林業研究技術センター\n",
      "林野庁伊豆森林管理署\n",
      "愛知県環境調査センター\n",
      "愛知県東三河総合庁舎\n",
      "三重県立総合医療センター\n",
      "三重県林業研究所\n",
      "Unnamed: 27\n",
      "Unnamed: 28\n",
      "三重県庁\n",
      "富山県魚津総合庁舎\n",
      "石川県能登中部保健福祉センター\n",
      "二州健康福祉センター\n",
      "山梨県身延合同庁舎本館\n",
      "伊東市役所\n",
      "静岡県東部総合庁舎（沼津財務事務所）\n",
      "山梨県衛生環境研究所\n",
      "静岡県庁本庁舎屋上\n",
      "pollen\n"
     ]
    }
   ],
   "source": [
    "for i in dfpollen2.columns:\n",
    "    print(i)"
   ]
  },
  {
   "cell_type": "code",
   "execution_count": 8,
   "id": "180b36dd-71c3-4223-953d-88980cdcb696",
   "metadata": {},
   "outputs": [
    {
     "data": {
      "text/html": [
       "<div>\n",
       "<style scoped>\n",
       "    .dataframe tbody tr th:only-of-type {\n",
       "        vertical-align: middle;\n",
       "    }\n",
       "\n",
       "    .dataframe tbody tr th {\n",
       "        vertical-align: top;\n",
       "    }\n",
       "\n",
       "    .dataframe thead th {\n",
       "        text-align: right;\n",
       "    }\n",
       "</style>\n",
       "<table border=\"1\" class=\"dataframe\">\n",
       "  <thead>\n",
       "    <tr style=\"text-align: right;\">\n",
       "      <th></th>\n",
       "      <th>pollen</th>\n",
       "    </tr>\n",
       "    <tr>\n",
       "      <th>date_time</th>\n",
       "      <th></th>\n",
       "    </tr>\n",
       "  </thead>\n",
       "  <tbody>\n",
       "    <tr>\n",
       "      <th>2010-02-01 01:00:00</th>\n",
       "      <td>4.0</td>\n",
       "    </tr>\n",
       "    <tr>\n",
       "      <th>2010-02-01 02:00:00</th>\n",
       "      <td>4.0</td>\n",
       "    </tr>\n",
       "    <tr>\n",
       "      <th>2010-02-01 03:00:00</th>\n",
       "      <td>0.0</td>\n",
       "    </tr>\n",
       "    <tr>\n",
       "      <th>2010-02-01 04:00:00</th>\n",
       "      <td>0.0</td>\n",
       "    </tr>\n",
       "    <tr>\n",
       "      <th>2010-02-01 05:00:00</th>\n",
       "      <td>4.0</td>\n",
       "    </tr>\n",
       "    <tr>\n",
       "      <th>...</th>\n",
       "      <td>...</td>\n",
       "    </tr>\n",
       "    <tr>\n",
       "      <th>2020-06-30 20:00:00</th>\n",
       "      <td>NaN</td>\n",
       "    </tr>\n",
       "    <tr>\n",
       "      <th>2020-06-30 21:00:00</th>\n",
       "      <td>NaN</td>\n",
       "    </tr>\n",
       "    <tr>\n",
       "      <th>2020-06-30 22:00:00</th>\n",
       "      <td>NaN</td>\n",
       "    </tr>\n",
       "    <tr>\n",
       "      <th>2020-06-30 23:00:00</th>\n",
       "      <td>NaN</td>\n",
       "    </tr>\n",
       "    <tr>\n",
       "      <th>2020-07-01 00:00:00</th>\n",
       "      <td>NaN</td>\n",
       "    </tr>\n",
       "  </tbody>\n",
       "</table>\n",
       "<p>38232 rows × 1 columns</p>\n",
       "</div>"
      ],
      "text/plain": [
       "                     pollen\n",
       "date_time                  \n",
       "2010-02-01 01:00:00     4.0\n",
       "2010-02-01 02:00:00     4.0\n",
       "2010-02-01 03:00:00     0.0\n",
       "2010-02-01 04:00:00     0.0\n",
       "2010-02-01 05:00:00     4.0\n",
       "...                     ...\n",
       "2020-06-30 20:00:00     NaN\n",
       "2020-06-30 21:00:00     NaN\n",
       "2020-06-30 22:00:00     NaN\n",
       "2020-06-30 23:00:00     NaN\n",
       "2020-07-01 00:00:00     NaN\n",
       "\n",
       "[38232 rows x 1 columns]"
      ]
     },
     "execution_count": 8,
     "metadata": {},
     "output_type": "execute_result"
    }
   ],
   "source": [
    "dfpollen=pd.concat([dfpollen1[[\"pollen\"]], dfpollen2[[\"pollen\"]]])\n",
    "dfpollen"
   ]
  },
  {
   "cell_type": "code",
   "execution_count": 9,
   "id": "9da05621-4a32-4c73-9173-3f23721bb594",
   "metadata": {},
   "outputs": [],
   "source": [
    "dfpollen[\"pollen\"]=dfpollen[\"pollen\"].where(dfpollen[\"pollen\"] >=0,np.nan)\n",
    "dfpollen[\"pollen\"]=dfpollen[\"pollen\"].where(dfpollen[\"pollen\"]<=1000, np.nan)"
   ]
  },
  {
   "cell_type": "code",
   "execution_count": 10,
   "id": "38ab1c6c-e731-40ad-b3a5-ca8891678d96",
   "metadata": {},
   "outputs": [],
   "source": [
    "dfpollen[\"log_pollen\"]=np.log1p(dfpollen[\"pollen\"])"
   ]
  },
  {
   "cell_type": "code",
   "execution_count": 11,
   "id": "c6120eaa-6e8c-40e6-8fd7-5f330feeb682",
   "metadata": {},
   "outputs": [],
   "source": [
    "dfpollen.to_csv(\"../input/pollen_2010_2022.csv.gz\", compression=\"gzip\")"
   ]
  }
 ],
 "metadata": {
  "kernelspec": {
   "display_name": "Python 3",
   "language": "python",
   "name": "python3"
  },
  "language_info": {
   "codemirror_mode": {
    "name": "ipython",
    "version": 3
   },
   "file_extension": ".py",
   "mimetype": "text/x-python",
   "name": "python",
   "nbconvert_exporter": "python",
   "pygments_lexer": "ipython3",
   "version": "3.9.2"
  }
 },
 "nbformat": 4,
 "nbformat_minor": 5
}
